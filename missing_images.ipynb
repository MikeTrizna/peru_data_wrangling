{
 "cells": [
  {
   "cell_type": "code",
   "execution_count": 1,
   "metadata": {},
   "outputs": [],
   "source": [
    "import pandas as pd"
   ]
  },
  {
   "cell_type": "code",
   "execution_count": 13,
   "metadata": {},
   "outputs": [
    {
     "data": {
      "text/html": [
       "<div>\n",
       "<style scoped>\n",
       "    .dataframe tbody tr th:only-of-type {\n",
       "        vertical-align: middle;\n",
       "    }\n",
       "\n",
       "    .dataframe tbody tr th {\n",
       "        vertical-align: top;\n",
       "    }\n",
       "\n",
       "    .dataframe thead th {\n",
       "        text-align: right;\n",
       "    }\n",
       "</style>\n",
       "<table border=\"1\" class=\"dataframe\">\n",
       "  <thead>\n",
       "    <tr style=\"text-align: right;\">\n",
       "      <th></th>\n",
       "      <th>Genus</th>\n",
       "      <th>Image_name</th>\n",
       "    </tr>\n",
       "  </thead>\n",
       "  <tbody>\n",
       "    <tr>\n",
       "      <th>0</th>\n",
       "      <td>Ancistrus</td>\n",
       "      <td>DSCN0083-HERM.JPG</td>\n",
       "    </tr>\n",
       "    <tr>\n",
       "      <th>1</th>\n",
       "      <td>Ancistrus</td>\n",
       "      <td>DSCN0084-HERM.JPG</td>\n",
       "    </tr>\n",
       "    <tr>\n",
       "      <th>2</th>\n",
       "      <td>Ancistrus</td>\n",
       "      <td>DSCN0088-HERM.JPG</td>\n",
       "    </tr>\n",
       "    <tr>\n",
       "      <th>3</th>\n",
       "      <td>Ancistrus</td>\n",
       "      <td>DSCN0089-HERM.JPG</td>\n",
       "    </tr>\n",
       "    <tr>\n",
       "      <th>4</th>\n",
       "      <td>Ancistrus</td>\n",
       "      <td>DSCN0248-KNTSH.JPG</td>\n",
       "    </tr>\n",
       "  </tbody>\n",
       "</table>\n",
       "</div>"
      ],
      "text/plain": [
       "       Genus          Image_name\n",
       "0  Ancistrus   DSCN0083-HERM.JPG\n",
       "1  Ancistrus   DSCN0084-HERM.JPG\n",
       "2  Ancistrus   DSCN0088-HERM.JPG\n",
       "3  Ancistrus   DSCN0089-HERM.JPG\n",
       "4  Ancistrus  DSCN0248-KNTSH.JPG"
      ]
     },
     "execution_count": 13,
     "metadata": {},
     "output_type": "execute_result"
    }
   ],
   "source": [
    "images_df = pd.read_csv('original_data/Fish_label_list.csv')\n",
    "images_df['Image_name'] = images_df['Image_name'].str.replace('jpg','JPG')\n",
    "images_df.head()"
   ]
  },
  {
   "cell_type": "code",
   "execution_count": 14,
   "metadata": {},
   "outputs": [
    {
     "data": {
      "text/plain": [
       "['DSCN0083-HERM.JPG',\n",
       " 'DSCN0084-HERM.JPG',\n",
       " 'DSCN0088-HERM.JPG',\n",
       " 'DSCN0089-HERM.JPG',\n",
       " 'DSCN0248-KNTSH.JPG']"
      ]
     },
     "execution_count": 14,
     "metadata": {},
     "output_type": "execute_result"
    }
   ],
   "source": [
    "image_list = images_df['Image_name'].tolist()\n",
    "image_list[:5]"
   ]
  },
  {
   "cell_type": "code",
   "execution_count": 15,
   "metadata": {},
   "outputs": [
    {
     "data": {
      "text/html": [
       "<div>\n",
       "<style scoped>\n",
       "    .dataframe tbody tr th:only-of-type {\n",
       "        vertical-align: middle;\n",
       "    }\n",
       "\n",
       "    .dataframe tbody tr th {\n",
       "        vertical-align: top;\n",
       "    }\n",
       "\n",
       "    .dataframe thead th {\n",
       "        text-align: right;\n",
       "    }\n",
       "</style>\n",
       "<table border=\"1\" class=\"dataframe\">\n",
       "  <thead>\n",
       "    <tr style=\"text-align: right;\">\n",
       "      <th></th>\n",
       "      <th>file_name</th>\n",
       "      <th>genus</th>\n",
       "      <th>species</th>\n",
       "      <th>data_source</th>\n",
       "      <th>country</th>\n",
       "      <th>specimen_id</th>\n",
       "    </tr>\n",
       "  </thead>\n",
       "  <tbody>\n",
       "    <tr>\n",
       "      <th>0</th>\n",
       "      <td>DSC_0001-CV1-TRAMPA.JPG</td>\n",
       "      <td>Hoplias</td>\n",
       "      <td>malabaricus</td>\n",
       "      <td>field</td>\n",
       "      <td>Peru</td>\n",
       "      <td>CV1-298</td>\n",
       "    </tr>\n",
       "    <tr>\n",
       "      <th>1</th>\n",
       "      <td>DSC_0001-CV2-TRAMPA.JPG</td>\n",
       "      <td>Hoplias</td>\n",
       "      <td>malabaricus</td>\n",
       "      <td>field</td>\n",
       "      <td>Peru</td>\n",
       "      <td>CV2-491</td>\n",
       "    </tr>\n",
       "    <tr>\n",
       "      <th>2</th>\n",
       "      <td>DSC_0001-KANT1.JPG</td>\n",
       "      <td>Erythrinus</td>\n",
       "      <td>erythrinus</td>\n",
       "      <td>field</td>\n",
       "      <td>Peru</td>\n",
       "      <td>CV2-299</td>\n",
       "    </tr>\n",
       "    <tr>\n",
       "      <th>3</th>\n",
       "      <td>DSC_0002-CV2-TRAMPA.JPG</td>\n",
       "      <td>Leporinus</td>\n",
       "      <td>friderici</td>\n",
       "      <td>field</td>\n",
       "      <td>Peru</td>\n",
       "      <td>CV2-492</td>\n",
       "    </tr>\n",
       "    <tr>\n",
       "      <th>4</th>\n",
       "      <td>DSC_0002-KANT1.JPG</td>\n",
       "      <td>Laetacara</td>\n",
       "      <td>flavilabris</td>\n",
       "      <td>field</td>\n",
       "      <td>Peru</td>\n",
       "      <td>CV2-300</td>\n",
       "    </tr>\n",
       "  </tbody>\n",
       "</table>\n",
       "</div>"
      ],
      "text/plain": [
       "                 file_name        genus      species data_source country  \\\n",
       "0  DSC_0001-CV1-TRAMPA.JPG     Hoplias   malabaricus       field    Peru   \n",
       "1  DSC_0001-CV2-TRAMPA.JPG     Hoplias   malabaricus       field    Peru   \n",
       "2       DSC_0001-KANT1.JPG  Erythrinus    erythrinus       field    Peru   \n",
       "3  DSC_0002-CV2-TRAMPA.JPG    Leporinus    friderici       field    Peru   \n",
       "4       DSC_0002-KANT1.JPG    Laetacara  flavilabris       field    Peru   \n",
       "\n",
       "  specimen_id  \n",
       "0     CV1-298  \n",
       "1     CV2-491  \n",
       "2     CV2-299  \n",
       "3     CV2-492  \n",
       "4     CV2-300  "
      ]
     },
     "execution_count": 15,
     "metadata": {},
     "output_type": "execute_result"
    }
   ],
   "source": [
    "combined_metadata = pd.read_csv('fish_image_metadata_combined.csv')\n",
    "combined_metadata.head()"
   ]
  },
  {
   "cell_type": "code",
   "execution_count": 16,
   "metadata": {},
   "outputs": [
    {
     "data": {
      "text/plain": [
       "1995"
      ]
     },
     "execution_count": 16,
     "metadata": {},
     "output_type": "execute_result"
    }
   ],
   "source": [
    "metadata_list = combined_metadata['file_name'].to_list()\n",
    "len(metadata_list)"
   ]
  },
  {
   "cell_type": "code",
   "execution_count": 17,
   "metadata": {},
   "outputs": [
    {
     "name": "stdout",
     "output_type": "stream",
     "text": [
      "<class 'pandas.core.frame.DataFrame'>\n",
      "Int64Index: 1627 entries, 0 to 3059\n",
      "Data columns (total 2 columns):\n",
      " #   Column      Non-Null Count  Dtype \n",
      "---  ------      --------------  ----- \n",
      " 0   Genus       1627 non-null   object\n",
      " 1   Image_name  1627 non-null   object\n",
      "dtypes: object(2)\n",
      "memory usage: 38.1+ KB\n"
     ]
    }
   ],
   "source": [
    "not_in_image_list = images_df[~images_df['Image_name'].isin(metadata_list)]\n",
    "not_in_image_list.info()"
   ]
  },
  {
   "cell_type": "code",
   "execution_count": 18,
   "metadata": {},
   "outputs": [
    {
     "data": {
      "text/html": [
       "<div>\n",
       "<style scoped>\n",
       "    .dataframe tbody tr th:only-of-type {\n",
       "        vertical-align: middle;\n",
       "    }\n",
       "\n",
       "    .dataframe tbody tr th {\n",
       "        vertical-align: top;\n",
       "    }\n",
       "\n",
       "    .dataframe thead th {\n",
       "        text-align: right;\n",
       "    }\n",
       "</style>\n",
       "<table border=\"1\" class=\"dataframe\">\n",
       "  <thead>\n",
       "    <tr style=\"text-align: right;\">\n",
       "      <th></th>\n",
       "      <th>Genus</th>\n",
       "      <th>Image_name</th>\n",
       "    </tr>\n",
       "  </thead>\n",
       "  <tbody>\n",
       "    <tr>\n",
       "      <th>0</th>\n",
       "      <td>Ancistrus</td>\n",
       "      <td>DSCN0083-HERM.JPG</td>\n",
       "    </tr>\n",
       "    <tr>\n",
       "      <th>1</th>\n",
       "      <td>Ancistrus</td>\n",
       "      <td>DSCN0084-HERM.JPG</td>\n",
       "    </tr>\n",
       "    <tr>\n",
       "      <th>2</th>\n",
       "      <td>Ancistrus</td>\n",
       "      <td>DSCN0088-HERM.JPG</td>\n",
       "    </tr>\n",
       "    <tr>\n",
       "      <th>3</th>\n",
       "      <td>Ancistrus</td>\n",
       "      <td>DSCN0089-HERM.JPG</td>\n",
       "    </tr>\n",
       "    <tr>\n",
       "      <th>4</th>\n",
       "      <td>Ancistrus</td>\n",
       "      <td>DSCN0248-KNTSH.JPG</td>\n",
       "    </tr>\n",
       "  </tbody>\n",
       "</table>\n",
       "</div>"
      ],
      "text/plain": [
       "       Genus          Image_name\n",
       "0  Ancistrus   DSCN0083-HERM.JPG\n",
       "1  Ancistrus   DSCN0084-HERM.JPG\n",
       "2  Ancistrus   DSCN0088-HERM.JPG\n",
       "3  Ancistrus   DSCN0089-HERM.JPG\n",
       "4  Ancistrus  DSCN0248-KNTSH.JPG"
      ]
     },
     "execution_count": 18,
     "metadata": {},
     "output_type": "execute_result"
    }
   ],
   "source": [
    "not_in_image_list.head()"
   ]
  },
  {
   "cell_type": "code",
   "execution_count": null,
   "metadata": {},
   "outputs": [],
   "source": []
  }
 ],
 "metadata": {
  "kernelspec": {
   "display_name": "Python 3 (ipykernel)",
   "language": "python",
   "name": "python3"
  },
  "language_info": {
   "codemirror_mode": {
    "name": "ipython",
    "version": 3
   },
   "file_extension": ".py",
   "mimetype": "text/x-python",
   "name": "python",
   "nbconvert_exporter": "python",
   "pygments_lexer": "ipython3",
   "version": "3.9.6"
  }
 },
 "nbformat": 4,
 "nbformat_minor": 4
}
