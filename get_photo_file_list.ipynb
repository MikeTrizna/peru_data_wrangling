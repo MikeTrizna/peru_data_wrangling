{
 "cells": [
  {
   "cell_type": "code",
   "execution_count": 2,
   "metadata": {},
   "outputs": [],
   "source": [
    "from pathlib import Path"
   ]
  },
  {
   "cell_type": "code",
   "execution_count": 3,
   "metadata": {},
   "outputs": [],
   "source": [
    "photos_dir = Path('/pool/genomics/triznam/amazon_fish_2021_dec/photos_from_dropbox')"
   ]
  },
  {
   "cell_type": "code",
   "execution_count": 6,
   "metadata": {},
   "outputs": [
    {
     "data": {
      "text/plain": [
       "3050"
      ]
     },
     "execution_count": 6,
     "metadata": {},
     "output_type": "execute_result"
    }
   ],
   "source": [
    "photo_list = list(photos_dir.glob('**/*.JPG'))\n",
    "len(photo_list)"
   ]
  },
  {
   "cell_type": "code",
   "execution_count": 7,
   "metadata": {},
   "outputs": [
    {
     "data": {
      "text/plain": [
       "[PosixPath('/pool/genomics/triznam/amazon_fish_2021_dec/photos_from_dropbox/2019 November/DSC_1318.JPG'),\n",
       " PosixPath('/pool/genomics/triznam/amazon_fish_2021_dec/photos_from_dropbox/2019 November/DSC_1317.JPG'),\n",
       " PosixPath('/pool/genomics/triznam/amazon_fish_2021_dec/photos_from_dropbox/2019 November/DSC_1316.JPG'),\n",
       " PosixPath('/pool/genomics/triznam/amazon_fish_2021_dec/photos_from_dropbox/2019 November/DSC_1319.JPG'),\n",
       " PosixPath('/pool/genomics/triznam/amazon_fish_2021_dec/photos_from_dropbox/2019 November/DSC_1320.JPG')]"
      ]
     },
     "execution_count": 7,
     "metadata": {},
     "output_type": "execute_result"
    }
   ],
   "source": [
    "photo_list[-5:]"
   ]
  },
  {
   "cell_type": "code",
   "execution_count": 8,
   "metadata": {},
   "outputs": [],
   "source": [
    "import pandas as pd"
   ]
  },
  {
   "cell_type": "code",
   "execution_count": 11,
   "metadata": {},
   "outputs": [
    {
     "data": {
      "text/html": [
       "<div>\n",
       "<style scoped>\n",
       "    .dataframe tbody tr th:only-of-type {\n",
       "        vertical-align: middle;\n",
       "    }\n",
       "\n",
       "    .dataframe tbody tr th {\n",
       "        vertical-align: top;\n",
       "    }\n",
       "\n",
       "    .dataframe thead th {\n",
       "        text-align: right;\n",
       "    }\n",
       "</style>\n",
       "<table border=\"1\" class=\"dataframe\">\n",
       "  <thead>\n",
       "    <tr style=\"text-align: right;\">\n",
       "      <th></th>\n",
       "      <th>folder</th>\n",
       "      <th>file_name</th>\n",
       "    </tr>\n",
       "  </thead>\n",
       "  <tbody>\n",
       "    <tr>\n",
       "      <th>0</th>\n",
       "      <td>Coolpix</td>\n",
       "      <td>DSCN0058-HERM.JPG</td>\n",
       "    </tr>\n",
       "    <tr>\n",
       "      <th>1</th>\n",
       "      <td>Coolpix</td>\n",
       "      <td>DSCN0054-HERM.JPG</td>\n",
       "    </tr>\n",
       "    <tr>\n",
       "      <th>2</th>\n",
       "      <td>Coolpix</td>\n",
       "      <td>DSCN0051-HERM.JPG</td>\n",
       "    </tr>\n",
       "    <tr>\n",
       "      <th>3</th>\n",
       "      <td>Coolpix</td>\n",
       "      <td>DSCN0059-HERM.JPG</td>\n",
       "    </tr>\n",
       "    <tr>\n",
       "      <th>4</th>\n",
       "      <td>Coolpix</td>\n",
       "      <td>DSCN0060-HERM.JPG</td>\n",
       "    </tr>\n",
       "  </tbody>\n",
       "</table>\n",
       "</div>"
      ],
      "text/plain": [
       "    folder          file_name\n",
       "0  Coolpix  DSCN0058-HERM.JPG\n",
       "1  Coolpix  DSCN0054-HERM.JPG\n",
       "2  Coolpix  DSCN0051-HERM.JPG\n",
       "3  Coolpix  DSCN0059-HERM.JPG\n",
       "4  Coolpix  DSCN0060-HERM.JPG"
      ]
     },
     "execution_count": 11,
     "metadata": {},
     "output_type": "execute_result"
    }
   ],
   "source": [
    "dropbox_list = []\n",
    "for photo in photo_list:\n",
    "    dropbox_list.append({'folder':photo.parent.name,\n",
    "                         'file_name':photo.name})\n",
    "dropbox_df = pd.DataFrame(dropbox_list)\n",
    "dropbox_df.head()"
   ]
  },
  {
   "cell_type": "code",
   "execution_count": 12,
   "metadata": {},
   "outputs": [
    {
     "data": {
      "text/html": [
       "<div>\n",
       "<style scoped>\n",
       "    .dataframe tbody tr th:only-of-type {\n",
       "        vertical-align: middle;\n",
       "    }\n",
       "\n",
       "    .dataframe tbody tr th {\n",
       "        vertical-align: top;\n",
       "    }\n",
       "\n",
       "    .dataframe thead th {\n",
       "        text-align: right;\n",
       "    }\n",
       "</style>\n",
       "<table border=\"1\" class=\"dataframe\">\n",
       "  <thead>\n",
       "    <tr style=\"text-align: right;\">\n",
       "      <th></th>\n",
       "      <th>folder</th>\n",
       "      <th>file_name</th>\n",
       "    </tr>\n",
       "  </thead>\n",
       "  <tbody>\n",
       "    <tr>\n",
       "      <th>0</th>\n",
       "      <td>2018 July-August</td>\n",
       "      <td>DSCN0058-HERM.JPG</td>\n",
       "    </tr>\n",
       "    <tr>\n",
       "      <th>1</th>\n",
       "      <td>2018 July-August</td>\n",
       "      <td>DSCN0054-HERM.JPG</td>\n",
       "    </tr>\n",
       "    <tr>\n",
       "      <th>2</th>\n",
       "      <td>2018 July-August</td>\n",
       "      <td>DSCN0051-HERM.JPG</td>\n",
       "    </tr>\n",
       "    <tr>\n",
       "      <th>3</th>\n",
       "      <td>2018 July-August</td>\n",
       "      <td>DSCN0059-HERM.JPG</td>\n",
       "    </tr>\n",
       "    <tr>\n",
       "      <th>4</th>\n",
       "      <td>2018 July-August</td>\n",
       "      <td>DSCN0060-HERM.JPG</td>\n",
       "    </tr>\n",
       "  </tbody>\n",
       "</table>\n",
       "</div>"
      ],
      "text/plain": [
       "             folder          file_name\n",
       "0  2018 July-August  DSCN0058-HERM.JPG\n",
       "1  2018 July-August  DSCN0054-HERM.JPG\n",
       "2  2018 July-August  DSCN0051-HERM.JPG\n",
       "3  2018 July-August  DSCN0059-HERM.JPG\n",
       "4  2018 July-August  DSCN0060-HERM.JPG"
      ]
     },
     "execution_count": 12,
     "metadata": {},
     "output_type": "execute_result"
    }
   ],
   "source": [
    "dropbox_df['folder'] = dropbox_df['folder'].replace({'Coolpix':'2018 July-August',\n",
    "                                           'DSLR':'2018 July-August'})\n",
    "dropbox_df.head()"
   ]
  },
  {
   "cell_type": "code",
   "execution_count": 13,
   "metadata": {},
   "outputs": [
    {
     "name": "stdout",
     "output_type": "stream",
     "text": [
      "<class 'pandas.core.frame.DataFrame'>\n",
      "RangeIndex: 3050 entries, 0 to 3049\n",
      "Data columns (total 2 columns):\n",
      " #   Column     Non-Null Count  Dtype \n",
      "---  ------     --------------  ----- \n",
      " 0   folder     3050 non-null   object\n",
      " 1   file_name  3050 non-null   object\n",
      "dtypes: object(2)\n",
      "memory usage: 47.8+ KB\n"
     ]
    }
   ],
   "source": [
    "dropbox_df.info()"
   ]
  },
  {
   "cell_type": "code",
   "execution_count": 14,
   "metadata": {},
   "outputs": [
    {
     "data": {
      "text/plain": [
       "3050"
      ]
     },
     "execution_count": 14,
     "metadata": {},
     "output_type": "execute_result"
    }
   ],
   "source": [
    "dropbox_df['file_name'].nunique()"
   ]
  },
  {
   "cell_type": "code",
   "execution_count": 32,
   "metadata": {},
   "outputs": [
    {
     "data": {
      "text/plain": [
       "array(['2018 July-August', '2018 November', '2018 November_Just Photos',\n",
       "       '2019 November'], dtype=object)"
      ]
     },
     "execution_count": 32,
     "metadata": {},
     "output_type": "execute_result"
    }
   ],
   "source": [
    "dropbox_df['folder'].unique()"
   ]
  },
  {
   "cell_type": "code",
   "execution_count": 33,
   "metadata": {},
   "outputs": [],
   "source": [
    "dropbox_df = dropbox_df[dropbox_df['folder'] != '2018 November_Just Photos']"
   ]
  },
  {
   "cell_type": "code",
   "execution_count": 34,
   "metadata": {},
   "outputs": [
    {
     "name": "stdout",
     "output_type": "stream",
     "text": [
      "<class 'pandas.core.frame.DataFrame'>\n",
      "Int64Index: 2904 entries, 0 to 3049\n",
      "Data columns (total 2 columns):\n",
      " #   Column     Non-Null Count  Dtype \n",
      "---  ------     --------------  ----- \n",
      " 0   folder     2904 non-null   object\n",
      " 1   file_name  2904 non-null   object\n",
      "dtypes: object(2)\n",
      "memory usage: 68.1+ KB\n"
     ]
    }
   ],
   "source": [
    "dropbox_df.info()"
   ]
  },
  {
   "cell_type": "code",
   "execution_count": 35,
   "metadata": {},
   "outputs": [],
   "source": [
    "dropbox_df.to_csv('dropbox_file_list.tsv', sep='\\t', index=False)"
   ]
  },
  {
   "cell_type": "code",
   "execution_count": 36,
   "metadata": {},
   "outputs": [
    {
     "data": {
      "text/html": [
       "<div>\n",
       "<style scoped>\n",
       "    .dataframe tbody tr th:only-of-type {\n",
       "        vertical-align: middle;\n",
       "    }\n",
       "\n",
       "    .dataframe tbody tr th {\n",
       "        vertical-align: top;\n",
       "    }\n",
       "\n",
       "    .dataframe thead th {\n",
       "        text-align: right;\n",
       "    }\n",
       "</style>\n",
       "<table border=\"1\" class=\"dataframe\">\n",
       "  <thead>\n",
       "    <tr style=\"text-align: right;\">\n",
       "      <th></th>\n",
       "      <th>file_name</th>\n",
       "      <th>genus</th>\n",
       "      <th>species</th>\n",
       "      <th>data_source</th>\n",
       "      <th>country</th>\n",
       "      <th>specimen_id</th>\n",
       "    </tr>\n",
       "  </thead>\n",
       "  <tbody>\n",
       "    <tr>\n",
       "      <th>0</th>\n",
       "      <td>DSC_0001-CV1-TRAMPA.JPG</td>\n",
       "      <td>Hoplias</td>\n",
       "      <td>malabaricus</td>\n",
       "      <td>field</td>\n",
       "      <td>Peru</td>\n",
       "      <td>CV1-298</td>\n",
       "    </tr>\n",
       "    <tr>\n",
       "      <th>1</th>\n",
       "      <td>DSC_0001-CV2-TRAMPA.JPG</td>\n",
       "      <td>Hoplias</td>\n",
       "      <td>malabaricus</td>\n",
       "      <td>field</td>\n",
       "      <td>Peru</td>\n",
       "      <td>CV2-491</td>\n",
       "    </tr>\n",
       "    <tr>\n",
       "      <th>2</th>\n",
       "      <td>DSC_0001-KANT1.JPG</td>\n",
       "      <td>Erythrinus</td>\n",
       "      <td>erythrinus</td>\n",
       "      <td>field</td>\n",
       "      <td>Peru</td>\n",
       "      <td>CV2-299</td>\n",
       "    </tr>\n",
       "    <tr>\n",
       "      <th>3</th>\n",
       "      <td>DSC_0002-CV2-TRAMPA.JPG</td>\n",
       "      <td>Leporinus</td>\n",
       "      <td>friderici</td>\n",
       "      <td>field</td>\n",
       "      <td>Peru</td>\n",
       "      <td>CV2-492</td>\n",
       "    </tr>\n",
       "    <tr>\n",
       "      <th>4</th>\n",
       "      <td>DSC_0002-KANT1.JPG</td>\n",
       "      <td>Laetacara</td>\n",
       "      <td>flavilabris</td>\n",
       "      <td>field</td>\n",
       "      <td>Peru</td>\n",
       "      <td>CV2-300</td>\n",
       "    </tr>\n",
       "  </tbody>\n",
       "</table>\n",
       "</div>"
      ],
      "text/plain": [
       "                 file_name        genus      species data_source country  \\\n",
       "0  DSC_0001-CV1-TRAMPA.JPG     Hoplias   malabaricus       field    Peru   \n",
       "1  DSC_0001-CV2-TRAMPA.JPG     Hoplias   malabaricus       field    Peru   \n",
       "2       DSC_0001-KANT1.JPG  Erythrinus    erythrinus       field    Peru   \n",
       "3  DSC_0002-CV2-TRAMPA.JPG    Leporinus    friderici       field    Peru   \n",
       "4       DSC_0002-KANT1.JPG    Laetacara  flavilabris       field    Peru   \n",
       "\n",
       "  specimen_id  \n",
       "0     CV1-298  \n",
       "1     CV2-491  \n",
       "2     CV2-299  \n",
       "3     CV2-492  \n",
       "4     CV2-300  "
      ]
     },
     "execution_count": 36,
     "metadata": {},
     "output_type": "execute_result"
    }
   ],
   "source": [
    "fish_image_metadata = pd.read_csv('fish_image_metadata_combined.csv')\n",
    "fish_image_metadata.head()"
   ]
  },
  {
   "cell_type": "code",
   "execution_count": 37,
   "metadata": {},
   "outputs": [
    {
     "name": "stdout",
     "output_type": "stream",
     "text": [
      "<class 'pandas.core.frame.DataFrame'>\n",
      "RangeIndex: 1995 entries, 0 to 1994\n",
      "Data columns (total 6 columns):\n",
      " #   Column       Non-Null Count  Dtype \n",
      "---  ------       --------------  ----- \n",
      " 0   file_name    1995 non-null   object\n",
      " 1   genus        1991 non-null   object\n",
      " 2   species      1989 non-null   object\n",
      " 3   data_source  1995 non-null   object\n",
      " 4   country      1995 non-null   object\n",
      " 5   specimen_id  1995 non-null   object\n",
      "dtypes: object(6)\n",
      "memory usage: 93.6+ KB\n"
     ]
    }
   ],
   "source": [
    "fish_image_metadata.info()"
   ]
  },
  {
   "cell_type": "code",
   "execution_count": 38,
   "metadata": {},
   "outputs": [
    {
     "data": {
      "text/plain": [
       "1958"
      ]
     },
     "execution_count": 38,
     "metadata": {},
     "output_type": "execute_result"
    }
   ],
   "source": [
    "fish_image_metadata['file_name'].nunique()"
   ]
  },
  {
   "cell_type": "code",
   "execution_count": 39,
   "metadata": {},
   "outputs": [],
   "source": [
    "fish_image_metadata = fish_image_metadata.drop_duplicates()"
   ]
  },
  {
   "cell_type": "code",
   "execution_count": 40,
   "metadata": {},
   "outputs": [
    {
     "data": {
      "text/html": [
       "<div>\n",
       "<style scoped>\n",
       "    .dataframe tbody tr th:only-of-type {\n",
       "        vertical-align: middle;\n",
       "    }\n",
       "\n",
       "    .dataframe tbody tr th {\n",
       "        vertical-align: top;\n",
       "    }\n",
       "\n",
       "    .dataframe thead th {\n",
       "        text-align: right;\n",
       "    }\n",
       "</style>\n",
       "<table border=\"1\" class=\"dataframe\">\n",
       "  <thead>\n",
       "    <tr style=\"text-align: right;\">\n",
       "      <th></th>\n",
       "      <th>file_name</th>\n",
       "      <th>genus</th>\n",
       "      <th>species</th>\n",
       "      <th>data_source</th>\n",
       "      <th>country</th>\n",
       "      <th>specimen_id</th>\n",
       "    </tr>\n",
       "  </thead>\n",
       "  <tbody>\n",
       "    <tr>\n",
       "      <th>1559</th>\n",
       "      <td>DSC_0800.JPG</td>\n",
       "      <td>Hoplias</td>\n",
       "      <td>malabaricus</td>\n",
       "      <td>field</td>\n",
       "      <td>Peru</td>\n",
       "      <td>KACV2-05</td>\n",
       "    </tr>\n",
       "    <tr>\n",
       "      <th>1563</th>\n",
       "      <td>DSC_0800.JPG</td>\n",
       "      <td>Steindachnerina</td>\n",
       "      <td>guentheri</td>\n",
       "      <td>field</td>\n",
       "      <td>Peru</td>\n",
       "      <td>KACV2-07</td>\n",
       "    </tr>\n",
       "    <tr>\n",
       "      <th>1560</th>\n",
       "      <td>DSC_0801.JPG</td>\n",
       "      <td>Hoplias</td>\n",
       "      <td>malabaricus</td>\n",
       "      <td>field</td>\n",
       "      <td>Peru</td>\n",
       "      <td>KACV2-05</td>\n",
       "    </tr>\n",
       "    <tr>\n",
       "      <th>1564</th>\n",
       "      <td>DSC_0801.JPG</td>\n",
       "      <td>Steindachnerina</td>\n",
       "      <td>guentheri</td>\n",
       "      <td>field</td>\n",
       "      <td>Peru</td>\n",
       "      <td>KACV2-07</td>\n",
       "    </tr>\n",
       "    <tr>\n",
       "      <th>1561</th>\n",
       "      <td>DSC_0802.JPG</td>\n",
       "      <td>Hoplias</td>\n",
       "      <td>malabaricus</td>\n",
       "      <td>field</td>\n",
       "      <td>Peru</td>\n",
       "      <td>KACV2-06</td>\n",
       "    </tr>\n",
       "    <tr>\n",
       "      <th>1565</th>\n",
       "      <td>DSC_0802.JPG</td>\n",
       "      <td>Steindachnerina</td>\n",
       "      <td>guentheri</td>\n",
       "      <td>field</td>\n",
       "      <td>Peru</td>\n",
       "      <td>KACV2-07</td>\n",
       "    </tr>\n",
       "    <tr>\n",
       "      <th>1562</th>\n",
       "      <td>DSC_0803.JPG</td>\n",
       "      <td>Hoplias</td>\n",
       "      <td>malabaricus</td>\n",
       "      <td>field</td>\n",
       "      <td>Peru</td>\n",
       "      <td>KACV2-06</td>\n",
       "    </tr>\n",
       "    <tr>\n",
       "      <th>1566</th>\n",
       "      <td>DSC_0803.JPG</td>\n",
       "      <td>Steindachnerina</td>\n",
       "      <td>guentheri</td>\n",
       "      <td>field</td>\n",
       "      <td>Peru</td>\n",
       "      <td>KACV2-07</td>\n",
       "    </tr>\n",
       "    <tr>\n",
       "      <th>1589</th>\n",
       "      <td>DSC_1313.JPG</td>\n",
       "      <td>Pterygoplichthys</td>\n",
       "      <td>sp. 1</td>\n",
       "      <td>field</td>\n",
       "      <td>Peru</td>\n",
       "      <td>KACV2-19</td>\n",
       "    </tr>\n",
       "    <tr>\n",
       "      <th>1593</th>\n",
       "      <td>DSC_1313.JPG</td>\n",
       "      <td>Pterygoplichthys</td>\n",
       "      <td>sp. 1</td>\n",
       "      <td>field</td>\n",
       "      <td>Peru</td>\n",
       "      <td>KACV2-20</td>\n",
       "    </tr>\n",
       "    <tr>\n",
       "      <th>1590</th>\n",
       "      <td>DSC_1314.JPG</td>\n",
       "      <td>Pterygoplichthys</td>\n",
       "      <td>sp. 1</td>\n",
       "      <td>field</td>\n",
       "      <td>Peru</td>\n",
       "      <td>KACV2-19</td>\n",
       "    </tr>\n",
       "    <tr>\n",
       "      <th>1594</th>\n",
       "      <td>DSC_1314.JPG</td>\n",
       "      <td>Pterygoplichthys</td>\n",
       "      <td>sp. 1</td>\n",
       "      <td>field</td>\n",
       "      <td>Peru</td>\n",
       "      <td>KACV2-20</td>\n",
       "    </tr>\n",
       "    <tr>\n",
       "      <th>1591</th>\n",
       "      <td>DSC_1315.JPG</td>\n",
       "      <td>Pterygoplichthys</td>\n",
       "      <td>sp. 1</td>\n",
       "      <td>field</td>\n",
       "      <td>Peru</td>\n",
       "      <td>KACV2-19</td>\n",
       "    </tr>\n",
       "    <tr>\n",
       "      <th>1595</th>\n",
       "      <td>DSC_1315.JPG</td>\n",
       "      <td>Pterygoplichthys</td>\n",
       "      <td>sp. 1</td>\n",
       "      <td>field</td>\n",
       "      <td>Peru</td>\n",
       "      <td>KACV2-20</td>\n",
       "    </tr>\n",
       "    <tr>\n",
       "      <th>1592</th>\n",
       "      <td>DSC_1316.JPG</td>\n",
       "      <td>Pterygoplichthys</td>\n",
       "      <td>sp. 1</td>\n",
       "      <td>field</td>\n",
       "      <td>Peru</td>\n",
       "      <td>KACV2-19</td>\n",
       "    </tr>\n",
       "    <tr>\n",
       "      <th>1596</th>\n",
       "      <td>DSC_1316.JPG</td>\n",
       "      <td>Pterygoplichthys</td>\n",
       "      <td>sp. 1</td>\n",
       "      <td>field</td>\n",
       "      <td>Peru</td>\n",
       "      <td>KACV2-20</td>\n",
       "    </tr>\n",
       "  </tbody>\n",
       "</table>\n",
       "</div>"
      ],
      "text/plain": [
       "         file_name             genus      species data_source country  \\\n",
       "1559  DSC_0800.JPG           Hoplias  malabaricus       field    Peru   \n",
       "1563  DSC_0800.JPG   Steindachnerina    guentheri       field    Peru   \n",
       "1560  DSC_0801.JPG           Hoplias  malabaricus       field    Peru   \n",
       "1564  DSC_0801.JPG   Steindachnerina    guentheri       field    Peru   \n",
       "1561  DSC_0802.JPG           Hoplias  malabaricus       field    Peru   \n",
       "1565  DSC_0802.JPG   Steindachnerina    guentheri       field    Peru   \n",
       "1562  DSC_0803.JPG           Hoplias  malabaricus       field    Peru   \n",
       "1566  DSC_0803.JPG   Steindachnerina    guentheri       field    Peru   \n",
       "1589  DSC_1313.JPG  Pterygoplichthys        sp. 1       field    Peru   \n",
       "1593  DSC_1313.JPG  Pterygoplichthys        sp. 1       field    Peru   \n",
       "1590  DSC_1314.JPG  Pterygoplichthys        sp. 1       field    Peru   \n",
       "1594  DSC_1314.JPG  Pterygoplichthys        sp. 1       field    Peru   \n",
       "1591  DSC_1315.JPG  Pterygoplichthys        sp. 1       field    Peru   \n",
       "1595  DSC_1315.JPG  Pterygoplichthys        sp. 1       field    Peru   \n",
       "1592  DSC_1316.JPG  Pterygoplichthys        sp. 1       field    Peru   \n",
       "1596  DSC_1316.JPG  Pterygoplichthys        sp. 1       field    Peru   \n",
       "\n",
       "     specimen_id  \n",
       "1559    KACV2-05  \n",
       "1563    KACV2-07  \n",
       "1560    KACV2-05  \n",
       "1564    KACV2-07  \n",
       "1561    KACV2-06  \n",
       "1565    KACV2-07  \n",
       "1562    KACV2-06  \n",
       "1566    KACV2-07  \n",
       "1589    KACV2-19  \n",
       "1593    KACV2-20  \n",
       "1590    KACV2-19  \n",
       "1594    KACV2-20  \n",
       "1591    KACV2-19  \n",
       "1595    KACV2-20  \n",
       "1592    KACV2-19  \n",
       "1596    KACV2-20  "
      ]
     },
     "execution_count": 40,
     "metadata": {},
     "output_type": "execute_result"
    }
   ],
   "source": [
    "fish_image_metadata[fish_image_metadata['file_name'].duplicated(keep=False)].sort_values('file_name')"
   ]
  },
  {
   "cell_type": "code",
   "execution_count": 41,
   "metadata": {},
   "outputs": [
    {
     "name": "stdout",
     "output_type": "stream",
     "text": [
      "<class 'pandas.core.frame.DataFrame'>\n",
      "Int64Index: 1958 entries, 0 to 1994\n",
      "Data columns (total 6 columns):\n",
      " #   Column       Non-Null Count  Dtype \n",
      "---  ------       --------------  ----- \n",
      " 0   file_name    1958 non-null   object\n",
      " 1   genus        1954 non-null   object\n",
      " 2   species      1952 non-null   object\n",
      " 3   data_source  1958 non-null   object\n",
      " 4   country      1958 non-null   object\n",
      " 5   specimen_id  1958 non-null   object\n",
      "dtypes: object(6)\n",
      "memory usage: 107.1+ KB\n"
     ]
    }
   ],
   "source": [
    "fish_image_metadata = fish_image_metadata.drop_duplicates(subset='file_name')\n",
    "fish_image_metadata.info()"
   ]
  },
  {
   "cell_type": "code",
   "execution_count": 42,
   "metadata": {},
   "outputs": [
    {
     "name": "stdout",
     "output_type": "stream",
     "text": [
      "<class 'pandas.core.frame.DataFrame'>\n",
      "Int64Index: 1424 entries, 0 to 1423\n",
      "Data columns (total 7 columns):\n",
      " #   Column       Non-Null Count  Dtype \n",
      "---  ------       --------------  ----- \n",
      " 0   folder       1424 non-null   object\n",
      " 1   file_name    1424 non-null   object\n",
      " 2   genus        1420 non-null   object\n",
      " 3   species      1418 non-null   object\n",
      " 4   data_source  1424 non-null   object\n",
      " 5   country      1424 non-null   object\n",
      " 6   specimen_id  1424 non-null   object\n",
      "dtypes: object(7)\n",
      "memory usage: 89.0+ KB\n"
     ]
    }
   ],
   "source": [
    "fish_image_metadata_found = dropbox_df.merge(fish_image_metadata, on='file_name')\n",
    "fish_image_metadata_found.info()"
   ]
  },
  {
   "cell_type": "code",
   "execution_count": 43,
   "metadata": {},
   "outputs": [
    {
     "data": {
      "text/plain": [
       "array(['2018 November', '2019 November'], dtype=object)"
      ]
     },
     "execution_count": 43,
     "metadata": {},
     "output_type": "execute_result"
    }
   ],
   "source": [
    "fish_image_metadata_found['folder'].unique()"
   ]
  },
  {
   "cell_type": "code",
   "execution_count": 44,
   "metadata": {},
   "outputs": [],
   "source": [
    "fish_image_metadata_found = fish_image_metadata_found[pd.notnull(fish_image_metadata_found['species'])]\n",
    "fish_image_metadata_found.to_csv('dropbox_photos_fish_metadata.tsv', sep='\\t', index=False)"
   ]
  },
  {
   "cell_type": "code",
   "execution_count": null,
   "metadata": {},
   "outputs": [],
   "source": []
  }
 ],
 "metadata": {
  "kernelspec": {
   "display_name": "Python 3",
   "language": "python",
   "name": "python3"
  },
  "language_info": {
   "codemirror_mode": {
    "name": "ipython",
    "version": 3
   },
   "file_extension": ".py",
   "mimetype": "text/x-python",
   "name": "python",
   "nbconvert_exporter": "python",
   "pygments_lexer": "ipython3",
   "version": "3.7.3"
  }
 },
 "nbformat": 4,
 "nbformat_minor": 4
}
