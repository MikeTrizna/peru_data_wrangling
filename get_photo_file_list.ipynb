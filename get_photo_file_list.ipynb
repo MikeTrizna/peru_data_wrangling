{
 "cells": [
  {
   "cell_type": "code",
   "execution_count": 1,
   "metadata": {},
   "outputs": [],
   "source": [
    "from pathlib import Path"
   ]
  },
  {
   "cell_type": "code",
   "execution_count": 2,
   "metadata": {},
   "outputs": [],
   "source": [
    "photos_dir = Path('/pool/genomics/triznam/amazon_fish_2021_dec/photos_from_dropbox')"
   ]
  },
  {
   "cell_type": "code",
   "execution_count": 3,
   "metadata": {},
   "outputs": [
    {
     "data": {
      "text/plain": [
       "1586"
      ]
     },
     "execution_count": 3,
     "metadata": {},
     "output_type": "execute_result"
    }
   ],
   "source": [
    "photo_list = list(photos_dir.glob('*/*.JPG'))\n",
    "len(photo_list)"
   ]
  },
  {
   "cell_type": "code",
   "execution_count": 4,
   "metadata": {},
   "outputs": [
    {
     "data": {
      "text/plain": [
       "[PosixPath('/pool/genomics/triznam/amazon_fish_2021_dec/photos_from_dropbox/2019 November/DSC_1318.JPG'),\n",
       " PosixPath('/pool/genomics/triznam/amazon_fish_2021_dec/photos_from_dropbox/2019 November/DSC_1317.JPG'),\n",
       " PosixPath('/pool/genomics/triznam/amazon_fish_2021_dec/photos_from_dropbox/2019 November/DSC_1316.JPG'),\n",
       " PosixPath('/pool/genomics/triznam/amazon_fish_2021_dec/photos_from_dropbox/2019 November/DSC_1319.JPG'),\n",
       " PosixPath('/pool/genomics/triznam/amazon_fish_2021_dec/photos_from_dropbox/2019 November/DSC_1320.JPG')]"
      ]
     },
     "execution_count": 4,
     "metadata": {},
     "output_type": "execute_result"
    }
   ],
   "source": [
    "photo_list[-5:]"
   ]
  },
  {
   "cell_type": "code",
   "execution_count": 5,
   "metadata": {},
   "outputs": [],
   "source": [
    "import pandas as pd"
   ]
  },
  {
   "cell_type": "code",
   "execution_count": 10,
   "metadata": {},
   "outputs": [
    {
     "data": {
      "text/html": [
       "<div>\n",
       "<style scoped>\n",
       "    .dataframe tbody tr th:only-of-type {\n",
       "        vertical-align: middle;\n",
       "    }\n",
       "\n",
       "    .dataframe tbody tr th {\n",
       "        vertical-align: top;\n",
       "    }\n",
       "\n",
       "    .dataframe thead th {\n",
       "        text-align: right;\n",
       "    }\n",
       "</style>\n",
       "<table border=\"1\" class=\"dataframe\">\n",
       "  <thead>\n",
       "    <tr style=\"text-align: right;\">\n",
       "      <th></th>\n",
       "      <th>folder</th>\n",
       "      <th>file_name</th>\n",
       "    </tr>\n",
       "  </thead>\n",
       "  <tbody>\n",
       "    <tr>\n",
       "      <th>0</th>\n",
       "      <td>2018 November</td>\n",
       "      <td>DSC_0001-CV1-TRAMPA.JPG</td>\n",
       "    </tr>\n",
       "    <tr>\n",
       "      <th>1</th>\n",
       "      <td>2018 November</td>\n",
       "      <td>DSC_0002-CV2-TRAMPA.JPG</td>\n",
       "    </tr>\n",
       "    <tr>\n",
       "      <th>2</th>\n",
       "      <td>2018 November</td>\n",
       "      <td>DSC_0002-KANT1.JPG</td>\n",
       "    </tr>\n",
       "    <tr>\n",
       "      <th>3</th>\n",
       "      <td>2018 November</td>\n",
       "      <td>DSC_0003-CV2-TRAMPA.JPG</td>\n",
       "    </tr>\n",
       "    <tr>\n",
       "      <th>4</th>\n",
       "      <td>2018 November</td>\n",
       "      <td>DSC_0005-CV2-TRAMPA.JPG</td>\n",
       "    </tr>\n",
       "  </tbody>\n",
       "</table>\n",
       "</div>"
      ],
      "text/plain": [
       "          folder                file_name\n",
       "0  2018 November  DSC_0001-CV1-TRAMPA.JPG\n",
       "1  2018 November  DSC_0002-CV2-TRAMPA.JPG\n",
       "2  2018 November       DSC_0002-KANT1.JPG\n",
       "3  2018 November  DSC_0003-CV2-TRAMPA.JPG\n",
       "4  2018 November  DSC_0005-CV2-TRAMPA.JPG"
      ]
     },
     "execution_count": 10,
     "metadata": {},
     "output_type": "execute_result"
    }
   ],
   "source": [
    "dropbox_list = []\n",
    "for photo in photo_list:\n",
    "    dropbox_list.append({'folder':photo.parent.name,\n",
    "                         'file_name':photo.name})\n",
    "dropbox_df = pd.DataFrame(dropbox_list)\n",
    "dropbox_df.head()"
   ]
  },
  {
   "cell_type": "code",
   "execution_count": 13,
   "metadata": {},
   "outputs": [
    {
     "name": "stdout",
     "output_type": "stream",
     "text": [
      "<class 'pandas.core.frame.DataFrame'>\n",
      "RangeIndex: 1586 entries, 0 to 1585\n",
      "Data columns (total 2 columns):\n",
      " #   Column     Non-Null Count  Dtype \n",
      "---  ------     --------------  ----- \n",
      " 0   folder     1586 non-null   object\n",
      " 1   file_name  1586 non-null   object\n",
      "dtypes: object(2)\n",
      "memory usage: 24.9+ KB\n"
     ]
    }
   ],
   "source": [
    "dropbox_df.info()"
   ]
  },
  {
   "cell_type": "code",
   "execution_count": 16,
   "metadata": {},
   "outputs": [
    {
     "data": {
      "text/plain": [
       "1586"
      ]
     },
     "execution_count": 16,
     "metadata": {},
     "output_type": "execute_result"
    }
   ],
   "source": [
    "dropbox_df['file_name'].nunique()"
   ]
  },
  {
   "cell_type": "code",
   "execution_count": 17,
   "metadata": {},
   "outputs": [],
   "source": [
    "dropbox_df.to_csv('dropbox_file_list.tsv', sep='\\t', index=False)"
   ]
  },
  {
   "cell_type": "code",
   "execution_count": 12,
   "metadata": {},
   "outputs": [
    {
     "data": {
      "text/html": [
       "<div>\n",
       "<style scoped>\n",
       "    .dataframe tbody tr th:only-of-type {\n",
       "        vertical-align: middle;\n",
       "    }\n",
       "\n",
       "    .dataframe tbody tr th {\n",
       "        vertical-align: top;\n",
       "    }\n",
       "\n",
       "    .dataframe thead th {\n",
       "        text-align: right;\n",
       "    }\n",
       "</style>\n",
       "<table border=\"1\" class=\"dataframe\">\n",
       "  <thead>\n",
       "    <tr style=\"text-align: right;\">\n",
       "      <th></th>\n",
       "      <th>file_name</th>\n",
       "      <th>genus</th>\n",
       "      <th>species</th>\n",
       "      <th>data_source</th>\n",
       "      <th>country</th>\n",
       "      <th>specimen_id</th>\n",
       "    </tr>\n",
       "  </thead>\n",
       "  <tbody>\n",
       "    <tr>\n",
       "      <th>0</th>\n",
       "      <td>DSC_0001-CV1-TRAMPA.JPG</td>\n",
       "      <td>Hoplias</td>\n",
       "      <td>malabaricus</td>\n",
       "      <td>field</td>\n",
       "      <td>Peru</td>\n",
       "      <td>CV1-298</td>\n",
       "    </tr>\n",
       "    <tr>\n",
       "      <th>1</th>\n",
       "      <td>DSC_0001-CV2-TRAMPA.JPG</td>\n",
       "      <td>Hoplias</td>\n",
       "      <td>malabaricus</td>\n",
       "      <td>field</td>\n",
       "      <td>Peru</td>\n",
       "      <td>CV2-491</td>\n",
       "    </tr>\n",
       "    <tr>\n",
       "      <th>2</th>\n",
       "      <td>DSC_0001-KANT1.JPG</td>\n",
       "      <td>Erythrinus</td>\n",
       "      <td>erythrinus</td>\n",
       "      <td>field</td>\n",
       "      <td>Peru</td>\n",
       "      <td>CV2-299</td>\n",
       "    </tr>\n",
       "    <tr>\n",
       "      <th>3</th>\n",
       "      <td>DSC_0002-CV2-TRAMPA.JPG</td>\n",
       "      <td>Leporinus</td>\n",
       "      <td>friderici</td>\n",
       "      <td>field</td>\n",
       "      <td>Peru</td>\n",
       "      <td>CV2-492</td>\n",
       "    </tr>\n",
       "    <tr>\n",
       "      <th>4</th>\n",
       "      <td>DSC_0002-KANT1.JPG</td>\n",
       "      <td>Laetacara</td>\n",
       "      <td>flavilabris</td>\n",
       "      <td>field</td>\n",
       "      <td>Peru</td>\n",
       "      <td>CV2-300</td>\n",
       "    </tr>\n",
       "  </tbody>\n",
       "</table>\n",
       "</div>"
      ],
      "text/plain": [
       "                 file_name        genus      species data_source country  \\\n",
       "0  DSC_0001-CV1-TRAMPA.JPG     Hoplias   malabaricus       field    Peru   \n",
       "1  DSC_0001-CV2-TRAMPA.JPG     Hoplias   malabaricus       field    Peru   \n",
       "2       DSC_0001-KANT1.JPG  Erythrinus    erythrinus       field    Peru   \n",
       "3  DSC_0002-CV2-TRAMPA.JPG    Leporinus    friderici       field    Peru   \n",
       "4       DSC_0002-KANT1.JPG    Laetacara  flavilabris       field    Peru   \n",
       "\n",
       "  specimen_id  \n",
       "0     CV1-298  \n",
       "1     CV2-491  \n",
       "2     CV2-299  \n",
       "3     CV2-492  \n",
       "4     CV2-300  "
      ]
     },
     "execution_count": 12,
     "metadata": {},
     "output_type": "execute_result"
    }
   ],
   "source": [
    "fish_image_metadata = pd.read_csv('fish_image_metadata_combined.csv')\n",
    "fish_image_metadata.head()"
   ]
  },
  {
   "cell_type": "code",
   "execution_count": 14,
   "metadata": {},
   "outputs": [
    {
     "name": "stdout",
     "output_type": "stream",
     "text": [
      "<class 'pandas.core.frame.DataFrame'>\n",
      "RangeIndex: 1995 entries, 0 to 1994\n",
      "Data columns (total 6 columns):\n",
      " #   Column       Non-Null Count  Dtype \n",
      "---  ------       --------------  ----- \n",
      " 0   file_name    1995 non-null   object\n",
      " 1   genus        1991 non-null   object\n",
      " 2   species      1989 non-null   object\n",
      " 3   data_source  1995 non-null   object\n",
      " 4   country      1995 non-null   object\n",
      " 5   specimen_id  1995 non-null   object\n",
      "dtypes: object(6)\n",
      "memory usage: 93.6+ KB\n"
     ]
    }
   ],
   "source": [
    "fish_image_metadata.info()"
   ]
  },
  {
   "cell_type": "code",
   "execution_count": 15,
   "metadata": {},
   "outputs": [
    {
     "name": "stdout",
     "output_type": "stream",
     "text": [
      "<class 'pandas.core.frame.DataFrame'>\n",
      "Int64Index: 1451 entries, 0 to 1450\n",
      "Data columns (total 7 columns):\n",
      " #   Column       Non-Null Count  Dtype \n",
      "---  ------       --------------  ----- \n",
      " 0   folder       1451 non-null   object\n",
      " 1   file_name    1451 non-null   object\n",
      " 2   genus        1447 non-null   object\n",
      " 3   species      1445 non-null   object\n",
      " 4   data_source  1451 non-null   object\n",
      " 5   country      1451 non-null   object\n",
      " 6   specimen_id  1451 non-null   object\n",
      "dtypes: object(7)\n",
      "memory usage: 90.7+ KB\n"
     ]
    }
   ],
   "source": [
    "fish_image_metadata_found = dropbox_df.merge(fish_image_metadata, on='file_name')\n",
    "fish_image_metadata_found.info()"
   ]
  },
  {
   "cell_type": "code",
   "execution_count": 19,
   "metadata": {},
   "outputs": [],
   "source": [
    "fish_image_metadata_found = fish_image_metadata_found[pd.notnull(fish_image_metadata_found['species'])]\n",
    "fish_image_metadata_found.to_csv('dropbox_photos_fish_metadata.tsv', sep='\\t', index=False)"
   ]
  },
  {
   "cell_type": "code",
   "execution_count": null,
   "metadata": {},
   "outputs": [],
   "source": []
  }
 ],
 "metadata": {
  "kernelspec": {
   "display_name": "Python 3",
   "language": "python",
   "name": "python3"
  },
  "language_info": {
   "codemirror_mode": {
    "name": "ipython",
    "version": 3
   },
   "file_extension": ".py",
   "mimetype": "text/x-python",
   "name": "python",
   "nbconvert_exporter": "python",
   "pygments_lexer": "ipython3",
   "version": "3.7.3"
  }
 },
 "nbformat": 4,
 "nbformat_minor": 4
}
