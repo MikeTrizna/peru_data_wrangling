{
 "cells": [
  {
   "cell_type": "code",
   "execution_count": 1,
   "metadata": {},
   "outputs": [],
   "source": [
    "import os\n",
    "import urllib\n",
    "import fastai.vision.all as fai_vision\n",
    "import numpy as np\n",
    "from pathlib import Path\n",
    "from PIL import Image\n",
    "import matplotlib.pyplot as plt\n",
    "import platform\n",
    "import pathlib\n",
    "import altair as alt\n",
    "import pandas as pd"
   ]
  },
  {
   "cell_type": "code",
   "execution_count": 2,
   "metadata": {},
   "outputs": [],
   "source": [
    "EXTERNAL_DEPENDENCIES = {\n",
    "    \"models/fish_mask_model_2021_08_17.pth\": {\n",
    "        \"url\": \"https://www.dropbox.com/s/e9c4oi6tf5qnqyd/fish_mask_model_2021_08_17.pth?dl=1\",\n",
    "        \"size\": 494929527\n",
    "    },\n",
    "    \"models/perumixed3.pkl\": {\n",
    "        \"url\": \"https://www.dropbox.com/s/31e6wuwrlm66sco/perumixed3.pkl?dl=1\",\n",
    "        \"size\": 179319095\n",
    "    }\n",
    "}"
   ]
  },
  {
   "cell_type": "code",
   "execution_count": 3,
   "metadata": {},
   "outputs": [],
   "source": [
    "def download_file(file_path):\n",
    "    # Don't download the file twice. (If possible, verify the download using the file length.)\n",
    "    if os.path.exists(file_path):\n",
    "        if \"size\" not in EXTERNAL_DEPENDENCIES[file_path]:\n",
    "            return\n",
    "        elif os.path.getsize(file_path) == EXTERNAL_DEPENDENCIES[file_path][\"size\"]:\n",
    "            return\n",
    "    try:\n",
    "        with open(file_path, \"wb\") as output_file:\n",
    "            with urllib.request.urlopen(EXTERNAL_DEPENDENCIES[file_path][\"url\"]) as response:\n",
    "                length = int(response.info()[\"Content-Length\"])\n",
    "                counter = 0.0\n",
    "                MEGABYTES = 2.0 ** 20.0\n",
    "                while True:\n",
    "                    data = response.read(8192)\n",
    "                    if not data:\n",
    "                        break\n",
    "                    counter += len(data)\n",
    "                    output_file.write(data)\n",
    "    except:\n",
    "        pass\n",
    "    return"
   ]
  },
  {
   "cell_type": "code",
   "execution_count": 4,
   "metadata": {},
   "outputs": [],
   "source": [
    "for filename in EXTERNAL_DEPENDENCIES.keys():\n",
    "    download_file(filename)"
   ]
  },
  {
   "cell_type": "code",
   "execution_count": 22,
   "metadata": {},
   "outputs": [],
   "source": [
    "def load_unet_model():\n",
    "    data_loader = fai_vision.SegmentationDataLoaders.from_label_func(\n",
    "        path = Path(\".\"),\n",
    "        fnames = [Path('thumbnails/DSC_0001-CV1-TRAMPA.JPG') for i in range(4)],\n",
    "        label_func = lambda x: x,\n",
    "        codes = np.array([\"Photo\", \"Masks\"], dtype=str),\n",
    "        item_tfms = [fai_vision.Resize(256, method = 'squish'),],\n",
    "        batch_tfms = [fai_vision.IntToFloatTensor(div_mask = 255)],\n",
    "        bs=4,\n",
    "        valid_pct = 0.2, num_workers = 0)\n",
    "    segmenter = fai_vision.unet_learner(data_loader, fai_vision.resnet34)\n",
    "    segmenter.load('fish_mask_model_2021_08_17')\n",
    "    return data_loader, segmenter"
   ]
  },
  {
   "cell_type": "code",
   "execution_count": 23,
   "metadata": {},
   "outputs": [],
   "source": [
    "unet_data_loader, segmenter = load_unet_model()"
   ]
  },
  {
   "cell_type": "code",
   "execution_count": 24,
   "metadata": {},
   "outputs": [],
   "source": [
    "def mask_fish_pil(unmasked_fish, fastai_mask):\n",
    "    unmasked_np = np.array(unmasked_fish)\n",
    "    np_mask = fastai_mask.argmax(dim=0).numpy()\n",
    "    total_pixels = np_mask.size\n",
    "    fish_pixels = np.count_nonzero(np_mask)\n",
    "    percentage_fish = (fish_pixels / total_pixels) * 100\n",
    "    np_mask = (255 / np_mask.max() * (np_mask - np_mask.min())).astype(np.uint8)\n",
    "    np_mask = np.array(Image.fromarray(np_mask).resize(unmasked_np.shape[1::-1], Image.BILINEAR))\n",
    "    np_mask = np_mask.reshape(*np_mask.shape, 1) / 255\n",
    "    masked_fish_np = (unmasked_np * np_mask).astype(np.uint8)\n",
    "    masked_fish_pil = Image.fromarray(masked_fish_np)\n",
    "    return masked_fish_pil, percentage_fish"
   ]
  },
  {
   "cell_type": "code",
   "execution_count": 26,
   "metadata": {},
   "outputs": [
    {
     "data": {
      "text/plain": [
       "1418"
      ]
     },
     "execution_count": 26,
     "metadata": {},
     "output_type": "execute_result"
    }
   ],
   "source": [
    "fish_files = Path('thumbnails').glob('*.JPG')\n",
    "len(list(fish_files))"
   ]
  },
  {
   "cell_type": "code",
   "execution_count": 33,
   "metadata": {},
   "outputs": [
    {
     "data": {
      "text/html": [],
      "text/plain": [
       "<IPython.core.display.HTML object>"
      ]
     },
     "metadata": {},
     "output_type": "display_data"
    },
    {
     "data": {
      "text/plain": [
       "1418"
      ]
     },
     "execution_count": 33,
     "metadata": {},
     "output_type": "execute_result"
    }
   ],
   "source": [
    "test_files = list(Path('thumbnails').glob('*.JPG'))\n",
    "input_dl = segmenter.dls.test_dl(test_files)\n",
    "masks, _ = segmenter.get_preds(dl=input_dl)\n",
    "len(masks)"
   ]
  },
  {
   "cell_type": "code",
   "execution_count": 34,
   "metadata": {},
   "outputs": [],
   "source": [
    "mask_result = []\n",
    "mask_dir = Path('masked')\n",
    "for idx, test_file in enumerate(test_files):\n",
    "    original_pil = Image.open(test_file)\n",
    "    masked_pil, percentage_fish = mask_fish_pil(original_pil, masks[idx])\n",
    "    mask_result.append({'file_name':test_file.name,\n",
    "                        'mask_percent':percentage_fish})\n",
    "    mask_file = mask_dir / test_file.name\n",
    "    masked_pil.save(mask_file)"
   ]
  },
  {
   "cell_type": "code",
   "execution_count": 35,
   "metadata": {},
   "outputs": [
    {
     "data": {
      "text/html": [
       "<div>\n",
       "<style scoped>\n",
       "    .dataframe tbody tr th:only-of-type {\n",
       "        vertical-align: middle;\n",
       "    }\n",
       "\n",
       "    .dataframe tbody tr th {\n",
       "        vertical-align: top;\n",
       "    }\n",
       "\n",
       "    .dataframe thead th {\n",
       "        text-align: right;\n",
       "    }\n",
       "</style>\n",
       "<table border=\"1\" class=\"dataframe\">\n",
       "  <thead>\n",
       "    <tr style=\"text-align: right;\">\n",
       "      <th></th>\n",
       "      <th>file_name</th>\n",
       "      <th>mask_percent</th>\n",
       "    </tr>\n",
       "  </thead>\n",
       "  <tbody>\n",
       "    <tr>\n",
       "      <th>0</th>\n",
       "      <td>DSC_0385.JPG</td>\n",
       "      <td>10.467529</td>\n",
       "    </tr>\n",
       "    <tr>\n",
       "      <th>1</th>\n",
       "      <td>DSC_0095-CHT1.JPG</td>\n",
       "      <td>13.569641</td>\n",
       "    </tr>\n",
       "    <tr>\n",
       "      <th>2</th>\n",
       "      <td>DSC_0391.JPG</td>\n",
       "      <td>20.661926</td>\n",
       "    </tr>\n",
       "    <tr>\n",
       "      <th>3</th>\n",
       "      <td>DSC_1058.JPG</td>\n",
       "      <td>5.815125</td>\n",
       "    </tr>\n",
       "    <tr>\n",
       "      <th>4</th>\n",
       "      <td>DSC_0346.JPG</td>\n",
       "      <td>26.457214</td>\n",
       "    </tr>\n",
       "  </tbody>\n",
       "</table>\n",
       "</div>"
      ],
      "text/plain": [
       "           file_name  mask_percent\n",
       "0       DSC_0385.JPG     10.467529\n",
       "1  DSC_0095-CHT1.JPG     13.569641\n",
       "2       DSC_0391.JPG     20.661926\n",
       "3       DSC_1058.JPG      5.815125\n",
       "4       DSC_0346.JPG     26.457214"
      ]
     },
     "execution_count": 35,
     "metadata": {},
     "output_type": "execute_result"
    }
   ],
   "source": [
    "mask_df = pd.DataFrame(mask_result)\n",
    "mask_df.head()"
   ]
  },
  {
   "cell_type": "code",
   "execution_count": 38,
   "metadata": {},
   "outputs": [],
   "source": [
    "mask_df.to_csv('mask_results.tsv', sep='\\t', index=False)"
   ]
  },
  {
   "cell_type": "code",
   "execution_count": null,
   "metadata": {},
   "outputs": [],
   "source": []
  }
 ],
 "metadata": {
  "kernelspec": {
   "display_name": "Python 3",
   "language": "python",
   "name": "python3"
  },
  "language_info": {
   "codemirror_mode": {
    "name": "ipython",
    "version": 3
   },
   "file_extension": ".py",
   "mimetype": "text/x-python",
   "name": "python",
   "nbconvert_exporter": "python",
   "pygments_lexer": "ipython3",
   "version": "3.8.5"
  }
 },
 "nbformat": 4,
 "nbformat_minor": 4
}
